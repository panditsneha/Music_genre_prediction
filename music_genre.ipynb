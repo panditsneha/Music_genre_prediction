{
 "cells": [
  {
   "cell_type": "code",
   "execution_count": null,
   "id": "400d4ed4",
   "metadata": {},
   "outputs": [],
   "source": [
    "import pandas as pd"
   ]
  },
  {
   "cell_type": "markdown",
   "id": "8a09fcdb",
   "metadata": {},
   "source": [
    "### reading data"
   ]
  },
  {
   "cell_type": "code",
   "execution_count": null,
   "id": "4fa21537",
   "metadata": {},
   "outputs": [],
   "source": [
    "df = pd.read_csv('music.csv')\n",
    "df"
   ]
  },
  {
   "cell_type": "markdown",
   "id": "b804997d",
   "metadata": {},
   "source": [
    "### Classifying and training a model based on age and gender using DecisionTreeClassifier algorithm"
   ]
  },
  {
   "cell_type": "code",
   "execution_count": null,
   "id": "3b4bf236",
   "metadata": {},
   "outputs": [],
   "source": [
    "# Here I am using DecisionTreeClassifier as it is one of the easiest classification algo for the classification."
   ]
  },
  {
   "cell_type": "code",
   "execution_count": null,
   "id": "e7cafa3f",
   "metadata": {},
   "outputs": [],
   "source": [
    "from sklearn.tree import DecisionTreeClassifier\n",
    "\n",
    "x = df[['age','gender']]\n",
    "y = df[['genre']]\n",
    "model = DecisionTreeClassifier()\n",
    "model.fit(x,y)"
   ]
  },
  {
   "cell_type": "markdown",
   "id": "0b28592e",
   "metadata": {},
   "source": [
    "### Taking input from the user"
   ]
  },
  {
   "cell_type": "code",
   "execution_count": null,
   "id": "ae0ae80d",
   "metadata": {},
   "outputs": [],
   "source": [
    "age = int(input('Enter the age\\n'))\n",
    "gender = int(input('For female enter 0 and for male enter 1\\n'))\n",
    "print('The genre of music this person is likely to have is' , model.predict([[age,gender]])[0])"
   ]
  },
  {
   "cell_type": "markdown",
   "id": "6f98ecc8",
   "metadata": {},
   "source": [
    "### Saving the file"
   ]
  },
  {
   "cell_type": "code",
   "execution_count": null,
   "id": "227d4352",
   "metadata": {},
   "outputs": [],
   "source": [
    "# now we are going to save our model so that we can use to later in any other file using Pickle library\n",
    "\n",
    "import pickle\n",
    "with open('music_genre_model','wb') as file:\n",
    "    pickle.dump(model,file)"
   ]
  }
 ],
 "metadata": {
  "kernelspec": {
   "display_name": "Python 3 (ipykernel)",
   "language": "python",
   "name": "python3"
  },
  "language_info": {
   "codemirror_mode": {
    "name": "ipython",
    "version": 3
   },
   "file_extension": ".py",
   "mimetype": "text/x-python",
   "name": "python",
   "nbconvert_exporter": "python",
   "pygments_lexer": "ipython3",
   "version": "3.9.7"
  }
 },
 "nbformat": 4,
 "nbformat_minor": 5
}
